{
  "nbformat": 4,
  "nbformat_minor": 0,
  "metadata": {
    "colab": {
      "name": "day5.ipynb",
      "provenance": [],
      "collapsed_sections": [],
      "mount_file_id": "1QJ_voRmHyIyg_8WUg5TyMNLI7KpFp2ZI",
      "authorship_tag": "ABX9TyO49EP7s9jcmJomngWvyRQ2",
      "include_colab_link": true
    },
    "kernelspec": {
      "name": "python3",
      "display_name": "Python 3"
    },
    "accelerator": "GPU"
  },
  "cells": [
    {
      "cell_type": "markdown",
      "metadata": {
        "id": "view-in-github",
        "colab_type": "text"
      },
      "source": [
        "<a href=\"https://colab.research.google.com/github/prikaczu/dw_matrix_road_sign/blob/master/day5.ipynb\" target=\"_parent\"><img src=\"https://colab.research.google.com/assets/colab-badge.svg\" alt=\"Open In Colab\"/></a>"
      ]
    },
    {
      "cell_type": "code",
      "metadata": {
        "id": "Pr9tH-LZX7IK",
        "colab_type": "code",
        "colab": {}
      },
      "source": [
        "# https://www.youtube.com/watch?v=w8RkFik1hUU"
      ],
      "execution_count": 0,
      "outputs": []
    },
    {
      "cell_type": "code",
      "metadata": {
        "id": "NmBuOusyXOXq",
        "colab_type": "code",
        "colab": {}
      },
      "source": [
        "!pip install hyperopt"
      ],
      "execution_count": 0,
      "outputs": []
    },
    {
      "cell_type": "code",
      "metadata": {
        "id": "5bfCly58XtgO",
        "colab_type": "code",
        "colab": {
          "base_uri": "https://localhost:8080/",
          "height": 51
        },
        "outputId": "3e056f5e-4829-401e-c23e-d9a1e540a46a"
      },
      "source": [
        "import pandas as pd\n",
        "import numpy as np\n",
        "import os\n",
        "import datetime\n",
        "import tensorflow as tf\n",
        "from tensorflow.keras.models import Sequential\n",
        "from tensorflow.keras.layers import Conv2D, MaxPool2D, Dense, Flatten, Dropout\n",
        "from tensorflow.keras.utils import to_categorical\n",
        "%load_ext tensorboard\n",
        "import matplotlib.pyplot as plt\n",
        "from skimage import color, exposure\n",
        "from sklearn.metrics import accuracy_score\n",
        "from hyperopt import hp, STATUS_OK, tpe, Trials, fmin"
      ],
      "execution_count": 14,
      "outputs": [
        {
          "output_type": "stream",
          "text": [
            "The tensorboard extension is already loaded. To reload it, use:\n",
            "  %reload_ext tensorboard\n"
          ],
          "name": "stdout"
        }
      ]
    },
    {
      "cell_type": "code",
      "metadata": {
        "id": "UIOACKq6YLeb",
        "colab_type": "code",
        "colab": {
          "base_uri": "https://localhost:8080/",
          "height": 34
        },
        "outputId": "35ef3973-caf9-48c4-ad01-e81112dc734c"
      },
      "source": [
        "cd '/content/drive/My Drive/Colab Notebooks/matrix/matrix_three/dw_matrix_road_sign'"
      ],
      "execution_count": 4,
      "outputs": [
        {
          "output_type": "stream",
          "text": [
            "/content/drive/My Drive/Colab Notebooks/matrix/matrix_three/dw_matrix_road_sign\n"
          ],
          "name": "stdout"
        }
      ]
    },
    {
      "cell_type": "code",
      "metadata": {
        "id": "wzqu0uKxask9",
        "colab_type": "code",
        "colab": {}
      },
      "source": [
        "train = pd.read_pickle('data/train.p')\n",
        "test = pd.read_pickle('data/test.p')\n",
        "\n",
        "X_train, y_train = train['features'], train['labels']\n",
        "X_test, y_test = test['features'], test['labels']"
      ],
      "execution_count": 0,
      "outputs": []
    },
    {
      "cell_type": "code",
      "metadata": {
        "id": "H1sldltTa0v_",
        "colab_type": "code",
        "colab": {}
      },
      "source": [
        "if y_train.ndim == 1: y_train = to_categorical(y_train)\n",
        "if y_test.ndim == 1: y_test = to_categorical(y_test)\n",
        "\n",
        "input_shape = X_train.shape[1:]\n",
        "num_classes = y_train.shape[1]"
      ],
      "execution_count": 0,
      "outputs": []
    },
    {
      "cell_type": "code",
      "metadata": {
        "id": "C2-2SLDcbQQK",
        "colab_type": "code",
        "colab": {}
      },
      "source": [
        "def train_model(model, X_train, y_train, params_fit={}):\n",
        "  model.compile(loss='categorical_crossentropy', optimizer='Adam', metrics=['accuracy'])\n",
        "  \n",
        "  logdir = os.path.join('logs', datetime.datetime.now().strftime(\"%Y%m%d-%H%M%S\"))\n",
        "  tensorboard_callback = tf.keras.callbacks.TensorBoard(logdir, histogram_freq=1)\n",
        "  \n",
        "  model.fit(\n",
        "      X_train,\n",
        "      y_train,\n",
        "      batch_size=params_fit.get('batch_size', 128),\n",
        "      epochs=params_fit.get('epochs', 5),\n",
        "      verbose=params_fit.get('verbose', 1),\n",
        "      validation_data=params_fit.get('validation_data', (X_train, y_train)),\n",
        "      callbacks= [tensorboard_callback]\n",
        "      \n",
        "  )\n",
        "\n",
        "  return model\n",
        "\n",
        "def predict(model_trained, X_test, y_test, scoring=accuracy_score):\n",
        "  \n",
        "  y_test_norm = np.argmax(y_test, axis=1)\n",
        "\n",
        "  y_pred_prob = model_trained.predict(X_test)\n",
        "  y_pred = np.argmax(y_pred_prob, axis=1)\n",
        "\n",
        "\n",
        "  return scoring(y_test_norm, y_pred)"
      ],
      "execution_count": 0,
      "outputs": []
    },
    {
      "cell_type": "code",
      "metadata": {
        "id": "vs6Hht0IbcAd",
        "colab_type": "code",
        "colab": {}
      },
      "source": [
        "def get_cnn_v5(input_shape, num_classes):\n",
        "  return Sequential([\n",
        "    Conv2D(filters=32, kernel_size=(3, 3), activation='relu', input_shape=input_shape),\n",
        "    Conv2D(filters=32, kernel_size=(3, 3), activation='relu', padding='same'),\n",
        "    MaxPool2D(),\n",
        "    Dropout(0.3),\n",
        "\n",
        "    Conv2D(filters=64, kernel_size=(3, 3), activation='relu', padding='same'),\n",
        "    Conv2D(filters=64, kernel_size=(3, 3), activation='relu'),\n",
        "    MaxPool2D(),\n",
        "    Dropout(0.3),\n",
        "\n",
        "    Conv2D(filters=64, kernel_size=(3, 3), activation='relu', padding='same'),\n",
        "    Conv2D(filters=64, kernel_size=(3, 3), activation='relu'),\n",
        "    MaxPool2D(),\n",
        "    Dropout(0.3),\n",
        "\n",
        "    Flatten(), \n",
        "\n",
        "    Dense(1024, activation='relu'),\n",
        "    Dropout(0.3),\n",
        "\n",
        "    Dense(1024, activation='relu'),\n",
        "    Dropout(0.3),\n",
        "\n",
        "    Dense(num_classes, activation='softmax'),\n",
        "  ])"
      ],
      "execution_count": 0,
      "outputs": []
    },
    {
      "cell_type": "code",
      "metadata": {
        "id": "zucZdA8xcb4v",
        "colab_type": "code",
        "colab": {}
      },
      "source": [
        "model = get_cnn_v5(input_shape, num_classes)\n",
        "model_trained = train_model(model, X_train, y_train)\n",
        "\n",
        "predict(model_trained, X_test, y_test)"
      ],
      "execution_count": 0,
      "outputs": []
    },
    {
      "cell_type": "code",
      "metadata": {
        "id": "tS23ZLHnk_pJ",
        "colab_type": "code",
        "colab": {}
      },
      "source": [
        "def get_model(params):\n",
        "  return Sequential([\n",
        "    Conv2D(filters=32, kernel_size=(3, 3), activation='relu', input_shape=input_shape),\n",
        "    Conv2D(filters=32, kernel_size=(3, 3), activation='relu', padding='same'),\n",
        "    MaxPool2D(),\n",
        "    Dropout(params['dropout_cnn_block_one']),\n",
        "\n",
        "    Conv2D(filters=64, kernel_size=(3, 3), activation='relu', padding='same'),\n",
        "    Conv2D(filters=64, kernel_size=(3, 3), activation='relu'),\n",
        "    MaxPool2D(),\n",
        "    Dropout(params['dropout_cnn_block_two']),\n",
        "\n",
        "    Conv2D(filters=128, kernel_size=(3, 3), activation='relu', padding='same'),\n",
        "    Conv2D(filters=128, kernel_size=(3, 3), activation='relu'),\n",
        "    MaxPool2D(),\n",
        "    Dropout(params['dropout_cnn_block_three']),\n",
        "\n",
        "    Flatten(), \n",
        "\n",
        "    Dense(1024, activation='relu'),\n",
        "    Dropout(params['dropout_dense_block_one']),\n",
        "\n",
        "    Dense(1024, activation='relu'),\n",
        "    Dropout(params['dropout_dense_block_two']),\n",
        "\n",
        "    Dense(num_classes, activation='softmax'),\n",
        "  ])"
      ],
      "execution_count": 0,
      "outputs": []
    },
    {
      "cell_type": "code",
      "metadata": {
        "id": "Xmub6dBsg4BE",
        "colab_type": "code",
        "colab": {}
      },
      "source": [
        "def func_obj(params):\n",
        "  model = get_model(params)\n",
        "  model.compile(loss='categorical_crossentropy', optimizer='Adam', metrics=['accuracy'])\n",
        "  \n",
        "  model.fit(\n",
        "      X_train,\n",
        "      y_train,\n",
        "      batch_size=int(params.get('batch_size', 128)),\n",
        "      epochs=5,\n",
        "      verbose=0\n",
        "      \n",
        "  )\n",
        "\n",
        "  score = model.evaluate(X_test, y_test, verbose=0)\n",
        "  accuracy = score[1]\n",
        "  print(params, 'accuracy={}'.format(accuracy))\n",
        "\n",
        "  return {'loss': -accuracy, 'status': STATUS_OK, 'model': model}"
      ],
      "execution_count": 0,
      "outputs": []
    },
    {
      "cell_type": "code",
      "metadata": {
        "id": "W6W8aJEfil5H",
        "colab_type": "code",
        "colab": {
          "base_uri": "https://localhost:8080/",
          "height": 1000
        },
        "outputId": "da8d8f3f-e63c-4fb1-95ec-d91d3632c628"
      },
      "source": [
        "space = {\n",
        "    'batch_size': hp.quniform('batch_size', 100, 200, 10),\n",
        "    'dropout_cnn_block_one': hp.uniform('dropout_cnn_block_one', 0.3, 0.5),\n",
        "    'dropout_cnn_block_two': hp.uniform('dropout_cnn_block_two', 0.3, 0.5),\n",
        "    'dropout_cnn_block_three': hp.uniform('dropout_cnn_block_three', 0.3, 0.5),\n",
        "\n",
        "    'dropout_dense_block_one': hp.uniform('dropout_dense_block_one', 0.3, 0.7),\n",
        "    'dropout_dense_block_two': hp.uniform('dropout_dense_block_two', 0.3, 0.7),\n",
        "}\n",
        "\n",
        "best = fmin(\n",
        "    func_obj, \n",
        "    space,\n",
        "    tpe.suggest,\n",
        "    30,\n",
        "    Trials()\n",
        ")"
      ],
      "execution_count": 26,
      "outputs": [
        {
          "output_type": "stream",
          "text": [
            "{'batch_size': 200.0, 'dropout_cnn_block_one': 0.33493399493729237, 'dropout_cnn_block_three': 0.4195312610003364, 'dropout_cnn_block_two': 0.3214096838761756, 'dropout_dense_block_one': 0.6990183637576757, 'dropout_dense_block_two': 0.36639773723370306}\n",
            "accuracy=0.9142857193946838\n",
            "{'batch_size': 170.0, 'dropout_cnn_block_one': 0.3775149222774373, 'dropout_cnn_block_three': 0.3468282083451341, 'dropout_cnn_block_two': 0.4992384697569323, 'dropout_dense_block_one': 0.4650590781957624, 'dropout_dense_block_two': 0.40167189634247585}\n",
            "accuracy=0.9553288221359253\n",
            "{'batch_size': 140.0, 'dropout_cnn_block_one': 0.42681925256682807, 'dropout_cnn_block_three': 0.4971689911435668, 'dropout_cnn_block_two': 0.34918604114535373, 'dropout_dense_block_one': 0.5093409577203625, 'dropout_dense_block_two': 0.3322381268069724}\n",
            "accuracy=0.9195011258125305\n",
            "{'batch_size': 110.0, 'dropout_cnn_block_one': 0.31111585616623316, 'dropout_cnn_block_three': 0.4474893166566858, 'dropout_cnn_block_two': 0.4566365703841426, 'dropout_dense_block_one': 0.4053086455399235, 'dropout_dense_block_two': 0.531194552007422}\n",
            "accuracy=0.9405895471572876\n",
            "{'batch_size': 190.0, 'dropout_cnn_block_one': 0.34362238565842007, 'dropout_cnn_block_three': 0.31836006986090615, 'dropout_cnn_block_two': 0.3911349017941982, 'dropout_dense_block_one': 0.41360569681534065, 'dropout_dense_block_two': 0.39788883026921007}\n",
            "accuracy=0.9396825432777405\n",
            "{'batch_size': 110.0, 'dropout_cnn_block_one': 0.4384270143443107, 'dropout_cnn_block_three': 0.3731637152471868, 'dropout_cnn_block_two': 0.462994514368456, 'dropout_dense_block_one': 0.5601178205965136, 'dropout_dense_block_two': 0.32191094657946207}\n",
            "accuracy=0.9104308485984802\n",
            "{'batch_size': 100.0, 'dropout_cnn_block_one': 0.3755885658218249, 'dropout_cnn_block_three': 0.32375342617040637, 'dropout_cnn_block_two': 0.4685329409932537, 'dropout_dense_block_one': 0.46373892723209703, 'dropout_dense_block_two': 0.6410698425170067}\n",
            "accuracy=0.9562358260154724\n",
            "{'batch_size': 160.0, 'dropout_cnn_block_one': 0.3577011124478062, 'dropout_cnn_block_three': 0.3741580001953601, 'dropout_cnn_block_two': 0.30455549110179925, 'dropout_dense_block_one': 0.3018986217945619, 'dropout_dense_block_two': 0.5468601411216264}\n",
            "accuracy=0.9512471556663513\n",
            "{'batch_size': 160.0, 'dropout_cnn_block_one': 0.46879616790673717, 'dropout_cnn_block_three': 0.4126985480824643, 'dropout_cnn_block_two': 0.3279104190773166, 'dropout_dense_block_one': 0.3437587060820221, 'dropout_dense_block_two': 0.3225129501150677}\n",
            "accuracy=0.9530612230300903\n",
            "{'batch_size': 180.0, 'dropout_cnn_block_one': 0.4103524221389998, 'dropout_cnn_block_three': 0.4903504308526712, 'dropout_cnn_block_two': 0.4060529955524077, 'dropout_dense_block_one': 0.5639594015080476, 'dropout_dense_block_two': 0.6020509739992468}\n",
            "accuracy=0.8734694123268127\n",
            "{'batch_size': 170.0, 'dropout_cnn_block_one': 0.39581601022062857, 'dropout_cnn_block_three': 0.46262739166292016, 'dropout_cnn_block_two': 0.49675859708274767, 'dropout_dense_block_one': 0.6363397283657468, 'dropout_dense_block_two': 0.4592533894842781}\n",
            "accuracy=0.7800453305244446\n",
            "{'batch_size': 190.0, 'dropout_cnn_block_one': 0.3180847072870838, 'dropout_cnn_block_three': 0.3271462603037812, 'dropout_cnn_block_two': 0.42259900408582457, 'dropout_dense_block_one': 0.6021401264518613, 'dropout_dense_block_two': 0.4684212758280366}\n",
            "accuracy=0.9530612230300903\n",
            "{'batch_size': 120.0, 'dropout_cnn_block_one': 0.498679094613959, 'dropout_cnn_block_three': 0.4232577106588304, 'dropout_cnn_block_two': 0.49499240859177057, 'dropout_dense_block_one': 0.6156656262044201, 'dropout_dense_block_two': 0.589539742817822}\n",
            "accuracy=0.8362811803817749\n",
            "{'batch_size': 200.0, 'dropout_cnn_block_one': 0.38479360659035966, 'dropout_cnn_block_three': 0.4761323630569439, 'dropout_cnn_block_two': 0.3015428323013789, 'dropout_dense_block_one': 0.40055829597734616, 'dropout_dense_block_two': 0.46806546669273585}\n",
            "accuracy=0.9412698149681091\n",
            "{'batch_size': 110.0, 'dropout_cnn_block_one': 0.32229212583725875, 'dropout_cnn_block_three': 0.46981356710223054, 'dropout_cnn_block_two': 0.49621364424251563, 'dropout_dense_block_one': 0.4427773323477362, 'dropout_dense_block_two': 0.4980342467818687}\n",
            "accuracy=0.9539682269096375\n",
            "{'batch_size': 120.0, 'dropout_cnn_block_one': 0.4263312054055953, 'dropout_cnn_block_three': 0.3234508386706787, 'dropout_cnn_block_two': 0.3442885889097647, 'dropout_dense_block_one': 0.449738384943198, 'dropout_dense_block_two': 0.5890582173506769}\n",
            "accuracy=0.9548752903938293\n",
            "{'batch_size': 150.0, 'dropout_cnn_block_one': 0.4117484433992513, 'dropout_cnn_block_three': 0.4657712711406979, 'dropout_cnn_block_two': 0.31018319850974896, 'dropout_dense_block_one': 0.5777328999721969, 'dropout_dense_block_two': 0.5421983317601112}\n",
            "accuracy=0.9065759778022766\n",
            "{'batch_size': 190.0, 'dropout_cnn_block_one': 0.3045644095200234, 'dropout_cnn_block_three': 0.49003362876853906, 'dropout_cnn_block_two': 0.3758779397269626, 'dropout_dense_block_one': 0.4512216631113883, 'dropout_dense_block_two': 0.3152724016251268}\n",
            "accuracy=0.8850340247154236\n",
            "{'batch_size': 160.0, 'dropout_cnn_block_one': 0.38939192945352086, 'dropout_cnn_block_three': 0.45407871638426917, 'dropout_cnn_block_two': 0.4680535836542006, 'dropout_dense_block_one': 0.6137010140107699, 'dropout_dense_block_two': 0.5605201244222429}\n",
            "accuracy=0.8836734890937805\n",
            "{'batch_size': 120.0, 'dropout_cnn_block_one': 0.37531118180133033, 'dropout_cnn_block_three': 0.40229038724758914, 'dropout_cnn_block_two': 0.35056347988986636, 'dropout_dense_block_one': 0.43892745090327057, 'dropout_dense_block_two': 0.36041350801646826}\n",
            "accuracy=0.9446712136268616\n",
            "{'batch_size': 140.0, 'dropout_cnn_block_one': 0.36137034561670295, 'dropout_cnn_block_three': 0.35147455717390047, 'dropout_cnn_block_two': 0.43675952916758976, 'dropout_dense_block_one': 0.5001159768602409, 'dropout_dense_block_two': 0.6602311460002155}\n",
            "accuracy=0.916553258895874\n",
            "{'batch_size': 140.0, 'dropout_cnn_block_one': 0.368428531399164, 'dropout_cnn_block_three': 0.3039564793129361, 'dropout_cnn_block_two': 0.4817651594896702, 'dropout_dense_block_one': 0.5253862700830486, 'dropout_dense_block_two': 0.6734388825739097}\n",
            "accuracy=0.9290249347686768\n",
            "{'batch_size': 170.0, 'dropout_cnn_block_one': 0.45336121460747714, 'dropout_cnn_block_three': 0.3473458730588655, 'dropout_cnn_block_two': 0.4371865278072235, 'dropout_dense_block_one': 0.34831744586227065, 'dropout_dense_block_two': 0.4226134366772518}\n",
            "accuracy=0.8804988861083984\n",
            "{'batch_size': 130.0, 'dropout_cnn_block_one': 0.34194049379936997, 'dropout_cnn_block_three': 0.30125538423623166, 'dropout_cnn_block_two': 0.4771494292628092, 'dropout_dense_block_one': 0.47904504111289203, 'dropout_dense_block_two': 0.6324926470115259}\n",
            "accuracy=0.9514739513397217\n",
            "{'batch_size': 100.0, 'dropout_cnn_block_one': 0.4048789928028408, 'dropout_cnn_block_three': 0.37691859894729457, 'dropout_cnn_block_two': 0.44248404483476717, 'dropout_dense_block_one': 0.3759810492890888, 'dropout_dense_block_two': 0.4252400249566519}\n",
            "accuracy=0.9473922848701477\n",
            "{'batch_size': 170.0, 'dropout_cnn_block_one': 0.3534068063892159, 'dropout_cnn_block_three': 0.34893359284557396, 'dropout_cnn_block_two': 0.4816714017016313, 'dropout_dense_block_one': 0.5359846787710225, 'dropout_dense_block_two': 0.5044455579881888}\n",
            "accuracy=0.9074829816818237\n",
            "{'batch_size': 180.0, 'dropout_cnn_block_one': 0.37841864674591397, 'dropout_cnn_block_three': 0.337894077759374, 'dropout_cnn_block_two': 0.4110234861270672, 'dropout_dense_block_one': 0.47795656264589464, 'dropout_dense_block_two': 0.382619427969153}\n",
            "accuracy=0.9473922848701477\n",
            "{'batch_size': 150.0, 'dropout_cnn_block_one': 0.47722194272051555, 'dropout_cnn_block_three': 0.36074008560631704, 'dropout_cnn_block_two': 0.3876355439325181, 'dropout_dense_block_one': 0.3172691986732481, 'dropout_dense_block_two': 0.43398165301774005}\n",
            "accuracy=0.9517006874084473\n",
            "{'batch_size': 180.0, 'dropout_cnn_block_one': 0.3323889693538048, 'dropout_cnn_block_three': 0.38656618813401, 'dropout_cnn_block_two': 0.44619898069207997, 'dropout_dense_block_one': 0.6515589111587331, 'dropout_dense_block_two': 0.6445500769626609}\n",
            "accuracy=0.8396825194358826\n",
            "{'batch_size': 200.0, 'dropout_cnn_block_one': 0.4196449252511495, 'dropout_cnn_block_three': 0.3101207701136191, 'dropout_cnn_block_two': 0.4208834082568939, 'dropout_dense_block_one': 0.46896217698248216, 'dropout_dense_block_two': 0.3662040743969591}\n",
            "accuracy=0.9614512324333191\n",
            "100%|██████████| 30/30 [05:24<00:00, 10.83s/it, best loss: -0.9614512324333191]\n"
          ],
          "name": "stdout"
        }
      ]
    }
  ]
}